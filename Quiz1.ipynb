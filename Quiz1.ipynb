{
 "cells": [
  {
   "cell_type": "code",
   "execution_count": null,
   "id": "86771ea3-c9ad-4f2a-9fed-39aaa112fe59",
   "metadata": {},
   "outputs": [],
   "source": [
    "new_args= list()\n",
    "for a in args:\n",
    "    pass\n",
    "return new_args\n",
    "new_args= [XXXXX for a in args]\n",
    "return[ XXXXX for a in args]"
   ]
  }
 ],
 "metadata": {
  "kernelspec": {
   "display_name": "Python 3 (ipykernel)",
   "language": "python",
   "name": "python3"
  },
  "language_info": {
   "codemirror_mode": {
    "name": "ipython",
    "version": 3
   },
   "file_extension": ".py",
   "mimetype": "text/x-python",
   "name": "python",
   "nbconvert_exporter": "python",
   "pygments_lexer": "ipython3",
   "version": "3.10.12"
  }
 },
 "nbformat": 4,
 "nbformat_minor": 5
}
