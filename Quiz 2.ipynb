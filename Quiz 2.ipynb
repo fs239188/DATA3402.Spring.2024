{
 "cells": [
  {
   "cell_type": "code",
   "execution_count": null,
   "id": "1b1e0692-c725-4b73-8446-3eeef6fb4b26",
   "metadata": {},
   "outputs": [],
   "source": [
    "#Quiz 2\n",
    "#Write a function make_deck that returns a list of all of the cards in a standard card deck. \n",
    "#The return should be a list of tuples of pairs of suit and value. For example the 10 of Clubs would be ('Clubs', 10) and Queen of Hearts would be ('Hearts', 'Queen').\n",
    "#Recall that a deck has 52 cards, divided into 4 suits (Clubs, Diamonds, Hearts, and Spades), and that each suit has 13 cards: 2 to 10, Jack, Queen, King, and Ace.\n",
    "#Summit your solution with Lab 2."
   ]
  },
  {
   "cell_type": "code",
   "execution_count": 3,
   "id": "99bbcc05-2c1a-4fb2-8e65-60ae7b838389",
   "metadata": {},
   "outputs": [
    {
     "ename": "TypeError",
     "evalue": "make_deck() takes no arguments",
     "output_type": "error",
     "traceback": [
      "\u001b[0;31m---------------------------------------------------------------------------\u001b[0m",
      "\u001b[0;31mTypeError\u001b[0m                                 Traceback (most recent call last)",
      "Cell \u001b[0;32mIn[3], line 9\u001b[0m\n\u001b[1;32m      7\u001b[0m card\u001b[38;5;241m=\u001b[39m (\u001b[38;5;124m'\u001b[39m\u001b[38;5;124mA\u001b[39m\u001b[38;5;124m'\u001b[39m,\u001b[38;5;241m2\u001b[39m,\u001b[38;5;241m3\u001b[39m,\u001b[38;5;241m4\u001b[39m,\u001b[38;5;241m5\u001b[39m,\u001b[38;5;241m6\u001b[39m,\u001b[38;5;241m7\u001b[39m,\u001b[38;5;241m8\u001b[39m,\u001b[38;5;241m9\u001b[39m,\u001b[38;5;241m10\u001b[39m,\u001b[38;5;124m'\u001b[39m\u001b[38;5;124mJ\u001b[39m\u001b[38;5;124m'\u001b[39m,\u001b[38;5;124m'\u001b[39m\u001b[38;5;124mQ\u001b[39m\u001b[38;5;124m'\u001b[39m,\u001b[38;5;124m'\u001b[39m\u001b[38;5;124mK\u001b[39m\u001b[38;5;124m'\u001b[39m)\n\u001b[1;32m      8\u001b[0m suit\u001b[38;5;241m=\u001b[39m (\u001b[38;5;124m'\u001b[39m\u001b[38;5;124mCLUBS\u001b[39m\u001b[38;5;124m'\u001b[39m, \u001b[38;5;124m'\u001b[39m\u001b[38;5;124mDIAMOND\u001b[39m\u001b[38;5;124m'\u001b[39m,\u001b[38;5;124m'\u001b[39m\u001b[38;5;124mHEART\u001b[39m\u001b[38;5;124m'\u001b[39m,\u001b[38;5;124m'\u001b[39m\u001b[38;5;124mSPADE\u001b[39m\u001b[38;5;124m'\u001b[39m)\n\u001b[0;32m----> 9\u001b[0m \u001b[43mmake_deck\u001b[49m\u001b[43m(\u001b[49m\u001b[43msuit\u001b[49m\u001b[43m,\u001b[49m\u001b[43m \u001b[49m\u001b[43mcard\u001b[49m\u001b[43m)\u001b[49m\n",
      "\u001b[0;31mTypeError\u001b[0m: make_deck() takes no arguments"
     ]
    }
   ],
   "source": [
    "class make_deck:\n",
    "    def __init(self,suit, card):\n",
    "        self.suit , self.card = suit, card\n",
    "    def list_of_cars(self):\n",
    "        return [(card, suit) for suit in self.suit for card in self.card]\n",
    "\n",
    "card= ('A',2,3,4,5,6,7,8,9,10,'J','Q','K')\n",
    "suit= ('CLUBS', 'DIAMOND','HEART','SPADE')\n",
    "make_deck(suit, card)"
   ]
  },
  {
   "cell_type": "code",
   "execution_count": null,
   "id": "b342281c-4543-454b-9cfe-065b6a06be94",
   "metadata": {},
   "outputs": [],
   "source": []
  }
 ],
 "metadata": {
  "kernelspec": {
   "display_name": "Python 3 (ipykernel)",
   "language": "python",
   "name": "python3"
  },
  "language_info": {
   "codemirror_mode": {
    "name": "ipython",
    "version": 3
   },
   "file_extension": ".py",
   "mimetype": "text/x-python",
   "name": "python",
   "nbconvert_exporter": "python",
   "pygments_lexer": "ipython3",
   "version": "3.10.12"
  }
 },
 "nbformat": 4,
 "nbformat_minor": 5
}
