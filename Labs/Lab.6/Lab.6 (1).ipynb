{
 "cells": [
  {
   "cell_type": "markdown",
   "metadata": {},
   "source": [
    "# Lab 6"
   ]
  },
  {
   "cell_type": "markdown",
   "metadata": {},
   "source": [
    "You are tasked with evaluating card counting strategies for black jack. In order to do so, you will use object oriented programming to create a playable casino style black jack game where a computer dealer plays against $n$ computer players and possibily one human player. If you don't know the rules of blackjack or card counting, please google it. \n",
    "\n",
    "A few requirements:\n",
    "* The game should utilize multiple 52-card decks. Typically the game is played with 6 decks.\n",
    "* Players should have chips.\n",
    "* Dealer's actions are predefined by rules of the game (typically hit on 16). \n",
    "* The players should be aware of all shown cards so that they can count cards.\n",
    "* Each player could have a different strategy.\n",
    "* The system should allow you to play large numbers of games, study the outcomes, and compare average winnings per hand rate for different strategies."
   ]
  },
  {
   "cell_type": "markdown",
   "metadata": {},
   "source": [
    "1. Begin by creating a classes to represent cards and decks. The deck should support more than one 52-card set. The deck should allow you to shuffle and draw cards. Include a \"plastic\" card, placed randomly in the deck. Later, when the plastic card is dealt, shuffle the cards before the next deal."
   ]
  },
  {
   "cell_type": "markdown",
   "metadata": {},
   "source": [
    "2. Now design your game on a UML diagram. You may want to create classes to represent, players, a hand, and/or the game. As you work through the lab, update your UML diagram. At the end of the lab, submit your diagram (as pdf file) along with your notebook. "
   ]
  },
  {
   "cell_type": "markdown",
   "metadata": {},
   "source": [
    "3. Begin with implementing the skeleton (ie define data members and methods/functions, but do not code the logic) of the classes in your UML diagram."
   ]
  },
  {
   "cell_type": "markdown",
   "metadata": {},
   "source": [
    "4. Complete the implementation by coding the logic of all functions. For now, just implement the dealer player and human player."
   ]
  },
  {
   "cell_type": "markdown",
   "metadata": {},
   "source": [
    "5.  Test. Demonstrate game play. For example, create a game of several dealer players and show that the game is functional through several rounds."
   ]
  },
  {
   "cell_type": "markdown",
   "metadata": {},
   "source": [
    "6. Implement a new player with the following strategy:\n",
    "\n",
    "    * Assign each card a value: \n",
    "        * Cards 2 to 6 are +1 \n",
    "        * Cards 7 to 9 are 0 \n",
    "        * Cards 10 through Ace are -1\n",
    "    * Compute the sum of the values for all cards seen so far.\n",
    "    * Hit if sum is very negative, stay if sum is very positive. Select a threshold for hit/stay, e.g. 0 or -2.  "
   ]
  },
  {
   "cell_type": "markdown",
   "metadata": {},
   "source": [
    "7. Create a test scenario where one player, using the above strategy, is playing with a dealer and 3 other players that follow the dealer's strategy. Each player starts with same number of chips. Play 50 rounds (or until the strategy player is out of money). Compute the strategy player's winnings. You may remove unnecessary printouts from your code (perhaps implement a verbose/quiet mode) to reduce the output."
   ]
  },
  {
   "cell_type": "markdown",
   "metadata": {},
   "source": [
    "8. Create a loop that runs 100 games of 50 rounds, as setup in previous question, and store the strategy player's chips at the end of the game (aka \"winnings\") in a list. Histogram the winnings. What is the average winnings per round? What is the standard deviation. What is the probabilty of net winning or lossing after 50 rounds?\n"
   ]
  },
  {
   "cell_type": "markdown",
   "metadata": {},
   "source": [
    "9. Repeat previous questions scanning the value of the threshold. Try at least 5 different threshold values. Can you find an optimal value?"
   ]
  },
  {
   "cell_type": "markdown",
   "metadata": {},
   "source": [
    "10. Create a new strategy based on web searches or your own ideas. Demonstrate that the new strategy will result in increased or decreased winnings. "
   ]
  },
  {
   "cell_type": "code",
   "execution_count": 15,
   "metadata": {},
   "outputs": [
    {
     "name": "stdout",
     "output_type": "stream",
     "text": [
      "2 of Clubs\n",
      "10 of Hearts\n",
      "2 of Spades\n"
     ]
    }
   ],
   "source": [
    "#Question 1 sol\n",
    "import random\n",
    "class Card:\n",
    "    def __init__(self, rank, suit):\n",
    "        self.rank = rank\n",
    "        self.suit = suit\n",
    "\n",
    "    def __repr__(self):\n",
    "        return f\"{self.rank} of {self.suit}\"\n",
    "\n",
    "class Deck:\n",
    "    suits = ['Clubs', 'Diamonds', 'Hearts', 'Spades']\n",
    "    ranks = ['2', '3', '4', '5', '6', '7', '8', '9', '10', 'Jack', 'Queen', 'King', 'Ace']\n",
    "    \n",
    "    def __init__(self, no_of_deck=6):\n",
    "        self.no_of_deck = no_of_deck\n",
    "        self.cards = self._create_deck()\n",
    "        self._shuffle_deck()\n",
    "        self.plastic_card_at = random.randint(50, len(self.cards) - 42)  \n",
    "        self.cards.insert(self.plastic_card_at, \"Plastic Card\")  \n",
    "\n",
    "    def _create_deck(self):\n",
    "        return [Card(rank, suit) for suit in self.suits for rank in self.ranks] * self.no_of_deck\n",
    "    \n",
    "    def _shuffle_deck(self):\n",
    "        random.shuffle(self.cards)\n",
    "\n",
    "    def draw_a_card(self):\n",
    "        if not self.cards:\n",
    "            raise ValueError(\"Sorry, deck is empty just deal!\")\n",
    "        \n",
    "        card_drawn = self.cards.pop(0)\n",
    "        \n",
    "        if card_drawn == \"Plastic Card\":\n",
    "            print(\"The Plastic card found. Reshuffling Initiated...\")\n",
    "            self.cards = self._create_deck()  # Recreate the deck\n",
    "            self._shuffle_deck()  # Shuffle the new deck\n",
    "            self.plastic_card_at = random.randint(50, len(self.cards) - 42)  # I put back the plastic card\n",
    "            self.cards.insert(self.plastic_card_at, \"Plastic Card\")\n",
    "            card_drawn = self.cards.pop(0)  # Draws the next card after initiated reshuffling\n",
    "        \n",
    "        return card_drawn\n",
    "\n",
    "my_deck = Deck()\n",
    "print(my_deck.draw_a_card())  \n",
    "print(my_deck.draw_a_card()) \n",
    "print(my_deck.draw_a_card()) "
   ]
  },
  {
   "cell_type": "code",
   "execution_count": 27,
   "metadata": {},
   "outputs": [],
   "source": [
    "#Question 2 sol has been attached\n",
    "#Question 3 sol\n",
    "class Card:\n",
    "    def __init__(self, rank, suit):\n",
    "        self.rank = rank\n",
    "        self.suit = suit\n",
    "\n",
    "class Deck:\n",
    "    def __init__(self, no_of_deck=6):\n",
    "        self.no_of_deck = no_of_deck\n",
    "        self.cards = None\n",
    "        self.plastic_card_at = None\n",
    "\n",
    "    def _create_deck(self):\n",
    "        pass\n",
    "\n",
    "    def _shuffle_deck(self):\n",
    "        pass\n",
    "\n",
    "    def draw_a_card(self):\n",
    "        pass\n",
    "        \n",
    "class Player:\n",
    "    def __init__(self, name):\n",
    "        self.name = name\n",
    "        self.hand = Hand()\n",
    "\n",
    "    def play(self, deck):\n",
    "        print(f\"{self.name}'s turn with initial hand: {self.hand}\")\n",
    "        while self.hand.calculate_value() < 17:\n",
    "            self.hand.add_card(deck.draw_card())\n",
    "            print(f\"{self.name} hits: {self.hand}\")\n",
    "        print(f\"{self.name}'s final hand: {self.hand}\")\n",
    "\n",
    "    def make_decision(self, game_state):\n",
    "        pass\n",
    "\n",
    "    def reset_hand(self):\n",
    "        pass\n",
    "\n",
    "class Hand:\n",
    "    def __init__(self):\n",
    "        self.cards = []\n",
    "        self.value = 0\n",
    "        self.is_soft = False\n",
    "        self.is_double_down = False\n",
    "        self.is_split = False\n",
    "\n",
    "    def add_card(self, card):\n",
    "        pass\n",
    "\n",
    "    def calculate_value(self):\n",
    "        pass\n",
    "\n",
    "    def adjust_for_ace(self):\n",
    "        pass\n",
    "\n",
    "class Game:\n",
    "    def __init__(self, players, deck):\n",
    "        self.deck = deck\n",
    "        self.players = players\n",
    "        self.dealer_hand = Hand()\n",
    "        self.current_player_index = 0\n",
    "\n",
    "    def deal_initial_cards(self):\n",
    "        pass\n",
    "\n",
    "    def play(self):\n",
    "        pass\n",
    "\n",
    "    def shuffle_if_needed(self):\n",
    "        pass"
   ]
  },
  {
   "cell_type": "code",
   "execution_count": 46,
   "metadata": {},
   "outputs": [],
   "source": [
    "#Question 4 sol\n",
    "#adding more frame to my previous definitions acd classes\n",
    "class Card:\n",
    "    def __init__(self, rank, suit):\n",
    "        self.rank = rank\n",
    "        self.suit = suit\n",
    "\n",
    "    def __repr__(self):\n",
    "        return f\"{self.rank} of {self.suit}\"\n",
    "\n",
    "class Deck:\n",
    "    def __init__(self, no_of_deck=6):\n",
    "        self.no_of_deck = no_of_deck\n",
    "        self._create_deck()\n",
    "\n",
    "    def _create_deck(self):\n",
    "        suits = ['Clubs', 'Diamonds', 'Hearts', 'Spades']\n",
    "        ranks = ['2', '3', '4', '5', '6', '7', '8', '9', '10', 'Jack', 'Queen', 'King', 'Ace']\n",
    "        self.cards = [Card(rank, suit) for suit in suits for rank in ranks for _ in range(self.no_of_deck)]\n",
    "        random.shuffle(self.cards)\n",
    "\n",
    "    def draw_a_card(self):\n",
    "        if not self.cards:\n",
    "            self._create_deck()  # To reshuffle when out of card\n",
    "        return self.cards.pop()\n",
    "\n",
    "class Player:\n",
    "    def __init__(self, name):\n",
    "        self.name = name\n",
    "        self.hand = Hand()\n",
    "\n",
    "    def play(self, deck):\n",
    "        print(f\"{self.name}'s turn with initial hand: {self.hand}\")\n",
    "        while self.hand.calculate_value() <= 16:     #my frame here idk why it wont test in no 5\n",
    "            self.hand.add_card(deck.draw_a_card())\n",
    "            print(f\"{self.name} hits: {self.hand}\")\n",
    "        print(f\"{self.name}'s final hand: {self.hand}\")\n",
    "\n",
    "class Hand:\n",
    "    def __init__(self):\n",
    "        self.cards = []\n",
    "\n",
    "    def add_card(self, card):\n",
    "        self.cards.append(card)\n",
    "\n",
    "    def calculate_value(self):\n",
    "        value, aces = 0, 0"
   ]
  },
  {
   "cell_type": "code",
   "execution_count": 47,
   "metadata": {},
   "outputs": [
    {
     "name": "stdout",
     "output_type": "stream",
     "text": [
      "Test Player's turn with initial hand: <__main__.Hand object at 0x7f99a6d7b5e0>\n"
     ]
    },
    {
     "ename": "TypeError",
     "evalue": "'<=' not supported between instances of 'NoneType' and 'int'",
     "output_type": "error",
     "traceback": [
      "\u001b[0;31m---------------------------------------------------------------------------\u001b[0m",
      "\u001b[0;31mTypeError\u001b[0m                                 Traceback (most recent call last)",
      "Cell \u001b[0;32mIn[47], line 8\u001b[0m\n\u001b[1;32m      5\u001b[0m testing\u001b[38;5;241m.\u001b[39mhand\u001b[38;5;241m.\u001b[39madd_card(my_deck\u001b[38;5;241m.\u001b[39mdraw_a_card())\n\u001b[1;32m      7\u001b[0m \u001b[38;5;66;03m#player's turn\u001b[39;00m\n\u001b[0;32m----> 8\u001b[0m \u001b[43mtesting\u001b[49m\u001b[38;5;241;43m.\u001b[39;49m\u001b[43mplay\u001b[49m\u001b[43m(\u001b[49m\u001b[43mmy_deck\u001b[49m\u001b[43m)\u001b[49m\n\u001b[1;32m      9\u001b[0m \u001b[38;5;28mprint\u001b[39m(\u001b[38;5;124mf\u001b[39m\u001b[38;5;124m\"\u001b[39m\u001b[38;5;124mFinal hand: \u001b[39m\u001b[38;5;132;01m{\u001b[39;00mtesting\u001b[38;5;241m.\u001b[39mhand\u001b[38;5;132;01m}\u001b[39;00m\u001b[38;5;124m\"\u001b[39m)\n\u001b[1;32m     10\u001b[0m \u001b[38;5;28mprint\u001b[39m(\u001b[38;5;124mf\u001b[39m\u001b[38;5;124m\"\u001b[39m\u001b[38;5;124mHand value: \u001b[39m\u001b[38;5;132;01m{\u001b[39;00mtesting\u001b[38;5;241m.\u001b[39mhand\u001b[38;5;241m.\u001b[39mcalculate_value()\u001b[38;5;132;01m}\u001b[39;00m\u001b[38;5;124m\"\u001b[39m)\n",
      "Cell \u001b[0;32mIn[46], line 34\u001b[0m, in \u001b[0;36mPlayer.play\u001b[0;34m(self, deck)\u001b[0m\n\u001b[1;32m     32\u001b[0m \u001b[38;5;28;01mdef\u001b[39;00m \u001b[38;5;21mplay\u001b[39m(\u001b[38;5;28mself\u001b[39m, deck):\n\u001b[1;32m     33\u001b[0m     \u001b[38;5;28mprint\u001b[39m(\u001b[38;5;124mf\u001b[39m\u001b[38;5;124m\"\u001b[39m\u001b[38;5;132;01m{\u001b[39;00m\u001b[38;5;28mself\u001b[39m\u001b[38;5;241m.\u001b[39mname\u001b[38;5;132;01m}\u001b[39;00m\u001b[38;5;124m'\u001b[39m\u001b[38;5;124ms turn with initial hand: \u001b[39m\u001b[38;5;132;01m{\u001b[39;00m\u001b[38;5;28mself\u001b[39m\u001b[38;5;241m.\u001b[39mhand\u001b[38;5;132;01m}\u001b[39;00m\u001b[38;5;124m\"\u001b[39m)\n\u001b[0;32m---> 34\u001b[0m     \u001b[38;5;28;01mwhile\u001b[39;00m \u001b[38;5;28;43mself\u001b[39;49m\u001b[38;5;241;43m.\u001b[39;49m\u001b[43mhand\u001b[49m\u001b[38;5;241;43m.\u001b[39;49m\u001b[43mcalculate_value\u001b[49m\u001b[43m(\u001b[49m\u001b[43m)\u001b[49m\u001b[43m \u001b[49m\u001b[38;5;241;43m<\u001b[39;49m\u001b[38;5;241;43m=\u001b[39;49m\u001b[43m \u001b[49m\u001b[38;5;241;43m16\u001b[39;49m:     \u001b[38;5;66;03m#my frame here idk why it wont test in no 5\u001b[39;00m\n\u001b[1;32m     35\u001b[0m         \u001b[38;5;28mself\u001b[39m\u001b[38;5;241m.\u001b[39mhand\u001b[38;5;241m.\u001b[39madd_card(deck\u001b[38;5;241m.\u001b[39mdraw_a_card())\n\u001b[1;32m     36\u001b[0m         \u001b[38;5;28mprint\u001b[39m(\u001b[38;5;124mf\u001b[39m\u001b[38;5;124m\"\u001b[39m\u001b[38;5;132;01m{\u001b[39;00m\u001b[38;5;28mself\u001b[39m\u001b[38;5;241m.\u001b[39mname\u001b[38;5;132;01m}\u001b[39;00m\u001b[38;5;124m hits: \u001b[39m\u001b[38;5;132;01m{\u001b[39;00m\u001b[38;5;28mself\u001b[39m\u001b[38;5;241m.\u001b[39mhand\u001b[38;5;132;01m}\u001b[39;00m\u001b[38;5;124m\"\u001b[39m)\n",
      "\u001b[0;31mTypeError\u001b[0m: '<=' not supported between instances of 'NoneType' and 'int'"
     ]
    }
   ],
   "source": [
    "#Question 5 sol\n",
    "my_deck = Deck()\n",
    "testing = Player(\"Test Player\")    \n",
    "testing.hand.add_card(my_deck.draw_a_card())\n",
    "testing.hand.add_card(my_deck.draw_a_card())\n",
    "\n",
    "#player's turn\n",
    "testing.play(my_deck)\n",
    "print(f\"Final hand: {testing.hand}\")\n",
    "print(f\"Hand value: {testing.hand.calculate_value()}\")"
   ]
  },
  {
   "cell_type": "code",
   "execution_count": 38,
   "metadata": {},
   "outputs": [],
   "source": [
    "#Question 6 sol\n",
    "class NewPlayer(Player):\n",
    "    def __init__(self, name):\n",
    "        super().__init__(name)\n",
    "        self.recent_count = 0\n",
    "\n",
    "    def update_the_count(self, card):\n",
    "        if card.rank in ['2', '3', '4', '5', '6']:\n",
    "            self.recent_count += 1\n",
    "        elif card.rank in ['10', 'Jack', 'Queen', 'King', 'Ace']:\n",
    "            self.recent_count -= 1                                # I didnt need to include 7 to 9 because it has a count of 0\n",
    "    \n",
    "    def play(self, deck):\n",
    "        print(f\"{self.name}'s turn with initial hand: {self.hand} and recent count: {self.recent_count}\")\n",
    "        while True:\n",
    "            for card in self.hand.cards:\n",
    "                self.update_the_count(card)\n",
    "            if self.recent_count >= 16:\n",
    "                print(f\"The recent count is {self.recent_count}. {self.name} hits.\")\n",
    "                new_card = deck.draw_card()\n",
    "                self.hand.add_card(new_card)\n",
    "                self.update_the_count(new_card) \n",
    "                print(f\"New card: {new_card}. Hand now: {self.hand}\")\n",
    "            else:\n",
    "                print(f\"The recent count is + ({self.recent_count}). {self.name} is good.\")\n",
    "                break\n",
    "\n",
    "           "
   ]
  },
  {
   "cell_type": "code",
   "execution_count": 43,
   "metadata": {},
   "outputs": [],
   "source": [
    "#Question 7 sol\n",
    "class JustPlayer(Player):\n",
    "    def __init__(self, name):\n",
    "        super().__init__(name)\n",
    "\n",
    "    def play(self, deck, verbose=False):\n",
    "        while self.hand.calculate_value() < 17:\n",
    "            new_card = deck.draw_card()\n",
    "            self.hand.add_card(new_card)\n",
    "\n",
    "class Game:\n",
    "    def __init__(self, players, dealer, deck):\n",
    "        self.players = players\n",
    "        self.dealer = dealer\n",
    "        self.deck = deck\n",
    "\n",
    "    def a_round(self, verbose=False):\n",
    "        for _ in range(3):\n",
    "            for player in self.players:\n",
    "                player.hand.add_card(self.deck.draw_a_card())\n",
    "            self.dealer.hand.add_card(self.deck.draw_a_card())\n",
    "\n",
    "        for player in self.players:\n",
    "            player.play(self.deck, verbose)\n",
    "\n",
    "        while self.dealer.hand.calculate_value() < 16:\n",
    "            self.dealer.hand.add_card(self.deck.draw_card())\n",
    "\n",
    "        dealer_value = self.dealer.hand.calculate_value()\n",
    "        for player in self.players:\n",
    "            player_value = player.hand.calculate_value()\n",
    "            if player_value > 21 or (dealer_value <= 21 and dealer_value > player_value):\n",
    "                player.chips -= 1\n",
    "            else:\n",
    "                player.chips += 1\n",
    "\n",
    "        # Reseting the hands of players\n",
    "        for player in self.players:\n",
    "            player.hand = Hand()\n",
    "        self.dealer.hand = Hand()\n",
    "\n",
    "    def Repeat_game(self, rounds=50, verbose=False):\n",
    "        for _ in range(rounds):\n",
    "            if self.players[0].chips <= 0: \n",
    "                break\n",
    "            self.play_round(verbose)\n",
    "        return self.players[0].chips  "
   ]
  },
  {
   "cell_type": "code",
   "execution_count": null,
   "metadata": {},
   "outputs": [],
   "source": []
  }
 ],
 "metadata": {
  "kernelspec": {
   "display_name": "Python 3 (ipykernel)",
   "language": "python",
   "name": "python3"
  },
  "language_info": {
   "codemirror_mode": {
    "name": "ipython",
    "version": 3
   },
   "file_extension": ".py",
   "mimetype": "text/x-python",
   "name": "python",
   "nbconvert_exporter": "python",
   "pygments_lexer": "ipython3",
   "version": "3.10.12"
  }
 },
 "nbformat": 4,
 "nbformat_minor": 4
}
