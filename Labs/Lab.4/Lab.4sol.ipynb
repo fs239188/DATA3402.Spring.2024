{
 "cells": [
  {
   "cell_type": "markdown",
   "metadata": {},
   "source": [
    "# Lab 4- Object Oriented Programming\n",
    "\n",
    "For all of the exercises below, make sure you provide tests of your solutions.\n"
   ]
  },
  {
   "cell_type": "markdown",
   "metadata": {},
   "source": [
    "1. Write a \"counter\" class that can be incremented up to a specified maximum value, will print an error if an attempt is made to increment beyond that value, and allows reseting the counter. "
   ]
  },
  {
   "cell_type": "code",
   "execution_count": 28,
   "metadata": {},
   "outputs": [],
   "source": [
    "class Counter:\n",
    "    def __init__(self,max_value):\n",
    "        self.max_value= max_value\n",
    "        self.value= 0\n",
    "    def increment(self):\n",
    "        if self.value < self.max_value:\n",
    "            self.value += 1\n",
    "        else:\n",
    "            print('Error: Cant go beyond that value.')\n",
    "    def reset(self):\n",
    "        self.value= 0\n",
    "    def print_value(self):\n",
    "        return self.value"
   ]
  },
  {
   "cell_type": "code",
   "execution_count": 35,
   "metadata": {},
   "outputs": [
    {
     "name": "stdout",
     "output_type": "stream",
     "text": [
      "0\n",
      "1\n",
      "0\n"
     ]
    }
   ],
   "source": [
    "counter= Counter(7)\n",
    "print(counter.print_value())\n",
    "counter.increment()\n",
    "print(counter.print_value())\n",
    "counter.reset()\n",
    "print(counter.print_value())"
   ]
  },
  {
   "cell_type": "markdown",
   "metadata": {},
   "source": [
    "2. Copy and paste your solution to question 1 and modify it so that all the data held by the counter is private. Implement functions to check the value of the counter, check the maximum value, and check if the counter is at the maximum."
   ]
  },
  {
   "cell_type": "code",
   "execution_count": 36,
   "metadata": {},
   "outputs": [],
   "source": [
    "class Counter:\n",
    "    def __init__(self,max_value):\n",
    "        self.__max_value= max_value\n",
    "        self.__value= 0\n",
    "    def increment(self):\n",
    "        if self.__value < self.__max_value:\n",
    "            self.__value += 1\n",
    "        else:\n",
    "            print('Error: Cant go beyond that value.')\n",
    "    def reset(self):\n",
    "        self.__value= 0\n",
    "    def print_value(self):\n",
    "        return self.__value\n",
    "    def check_max_value(self):\n",
    "        return self.__max_value\n",
    "    def check_at_max(self):\n",
    "        return self.__value == self.__max_value"
   ]
  },
  {
   "cell_type": "code",
   "execution_count": 37,
   "metadata": {},
   "outputs": [
    {
     "name": "stdout",
     "output_type": "stream",
     "text": [
      "The counter value is: 7\n",
      "At Max? True\n"
     ]
    }
   ],
   "source": [
    "counter.increment()\n",
    "counter.increment()\n",
    "counter.increment()\n",
    "counter.increment()\n",
    "counter.increment()\n",
    "counter.increment()\n",
    "counter.increment()\n",
    "print('The counter value is:', counter.print_value())\n",
    "print('At Max?', counter.check_at_max())"
   ]
  },
  {
   "cell_type": "markdown",
   "metadata": {},
   "source": [
    "3. Implement a class to represent a rectangle, holding the length, width, and $x$ and $y$ coordinates of a corner of the object. Implement functions that compute the area and perimeter of the rectangle. Make all data members private and privide accessors to retrieve values of data members. "
   ]
  },
  {
   "cell_type": "code",
   "execution_count": 12,
   "metadata": {},
   "outputs": [],
   "source": [
    "class Rectangle:\n",
    "    def __init__(self,length,width,x,y):\n",
    "        self.__length, self.__width, self.__x, self.__y = length, width, x, y\n",
    "        \n",
    "    def print_length(self):\n",
    "        return self.__length\n",
    "    def print_width(self):\n",
    "        return self.__width\n",
    "    def print_x(self):\n",
    "        return self.__x\n",
    "    def print_y(self):\n",
    "        return self.__y\n",
    "    def area(self):\n",
    "        return self.__length * self.__width\n",
    "    def perimeter(self):\n",
    "        return (self.__length + self.__width)*2"
   ]
  },
  {
   "cell_type": "code",
   "execution_count": 16,
   "metadata": {},
   "outputs": [
    {
     "name": "stdout",
     "output_type": "stream",
     "text": [
      "The length: 6\n",
      "The area: 12\n",
      "The Perimeter: 16\n"
     ]
    }
   ],
   "source": [
    "Rectangle(6,2,0,0)\n",
    "print('The length:', Rectangle(6,2,0,0).print_length())\n",
    "print('The area:', Rectangle(6,2,0,0).area())\n",
    "print('The Perimeter:', Rectangle(6,2,0,0).perimeter())"
   ]
  },
  {
   "cell_type": "markdown",
   "metadata": {},
   "source": [
    "4. Implement a class to represent a circle, holding the radius and $x$ and $y$ coordinates of center of the object. Implement functions that compute the area and perimeter of the rectangle. Make all data members private and privide accessors to retrieve values of data members. "
   ]
  },
  {
   "cell_type": "code",
   "execution_count": 7,
   "metadata": {},
   "outputs": [],
   "source": [
    "import math\n",
    "class Circle:\n",
    "    def __init__(self,radius,x,y):\n",
    "        self.__radius, self.__x, self.__y = radius, x, y\n",
    "    def print_radius(self):\n",
    "        return self.__radius\n",
    "    def print_x(self):\n",
    "        return self.__x\n",
    "    def print_y(self):\n",
    "        return self.__y\n",
    "    def area(self):\n",
    "        return math.pi* self.__radius **2\n",
    "    def perimeter(self):\n",
    "        return 2 * math.pi* self.__radius"
   ]
  },
  {
   "cell_type": "code",
   "execution_count": 8,
   "metadata": {},
   "outputs": [
    {
     "name": "stdout",
     "output_type": "stream",
     "text": [
      "The Radius: 7\n",
      "The Area: 153.93804002589985\n",
      "The Perimeter 43.982297150257104\n"
     ]
    }
   ],
   "source": [
    "Circle(7,0,0)\n",
    "print('The Radius:',Circle(7,0,0).print_radius())\n",
    "print('The Area:', Circle(7,0,0).area())\n",
    "print('The Perimeter', Circle(7,0,0).perimeter())"
   ]
  },
  {
   "cell_type": "markdown",
   "metadata": {},
   "source": [
    "5. Implement a common base class for the classes implemented in 3 and 4 above which implements all common methods as not implemented functions (virtual). Re-implement those classes to inherit from the base class and overload the functions accordingly. "
   ]
  },
  {
   "cell_type": "code",
   "execution_count": 9,
   "metadata": {},
   "outputs": [],
   "source": [
    "class Common:\n",
    "    def __init__(self, x, y):\n",
    "        self.__x, self.__y = x, y\n",
    "        \n",
    "    def print_x(self):\n",
    "        return self.__x\n",
    "        \n",
    "    def print_y(self):\n",
    "        return self.__y\n",
    "        \n",
    "    def area(self):\n",
    "        raise NotImplementedError('Must implement the area method')\n",
    "    def perimeter(self):\n",
    "        raise NotImplementedError('Must implement the perimeter method')\n",
    "\n",
    "class Rectangle(Common):\n",
    "    def __init__(self,length,width,x,y):\n",
    "        super().__init__(x, y) \n",
    "        self.__length= length\n",
    "        self.__width= width\n",
    "    \n",
    "    def area(self):\n",
    "        return self.__length * self.__width\n",
    "    def perimeter(self):\n",
    "        return (self.__length + self.__width)*2\n",
    "\n",
    "class Circle(Common):\n",
    "    def __init__(self,radius,x,y):\n",
    "        super().__init__(x, y)\n",
    "        self.__radius = radius\n",
    "    def area(self):\n",
    "        return math.pi* self.__radius **2\n",
    "    def perimeter(self):\n",
    "        return 2 * math.pi* self.__radius\n",
    "    \n"
   ]
  },
  {
   "cell_type": "code",
   "execution_count": 10,
   "metadata": {},
   "outputs": [
    {
     "name": "stdout",
     "output_type": "stream",
     "text": [
      "12\n",
      "43.982297150257104\n"
     ]
    }
   ],
   "source": [
    "Rectangle(6,2,0,0)\n",
    "Circle(7,0,0)\n",
    "print(Rectangle(6,2,0,0).area())\n",
    "print(Circle(7,0,0).perimeter())"
   ]
  },
  {
   "cell_type": "markdown",
   "metadata": {},
   "source": [
    "6. Implement an analogous triangle class."
   ]
  },
  {
   "cell_type": "code",
   "execution_count": 27,
   "metadata": {},
   "outputs": [],
   "source": [
    "class Triangle(Common):\n",
    "    def __init__(self, base, height, x, y):\n",
    "        super().__init__(x, y)\n",
    "        self.__base, self.__height= base, height\n",
    "    def area(self):\n",
    "        return self.__base * self.__height/ 2\n",
    "    def perimeter(self):\n",
    "        raise Error('Perimeter not for right triangle')"
   ]
  },
  {
   "cell_type": "code",
   "execution_count": 29,
   "metadata": {},
   "outputs": [
    {
     "name": "stdout",
     "output_type": "stream",
     "text": [
      "16.0\n"
     ]
    }
   ],
   "source": [
    "print(Triangle(4,8,0,0).area())\n"
   ]
  },
  {
   "cell_type": "markdown",
   "metadata": {},
   "source": [
    "7. Add a function to the object classes that tests if a given set of $x$ and $y$ coordinates are inside of the object."
   ]
  },
  {
   "cell_type": "code",
   "execution_count": 43,
   "metadata": {},
   "outputs": [],
   "source": [
    "class Common:\n",
    "    def __init__(self, x, y):\n",
    "        self.__x, self.__y = x, y\n",
    "        \n",
    "    def print_x(self):\n",
    "        return self.__x\n",
    "        \n",
    "    def print_y(self):\n",
    "        return self.__y\n",
    "        \n",
    "    def area(self):\n",
    "        raise NotImplementedError('Must implement the area method')\n",
    "    def perimeter(self):\n",
    "        raise NotImplementedError('Must implement the perimeter method')\n",
    "    def xy_inside(self, x,y):\n",
    "        raise NotImplementedError('Must implement the xy_inside method')\n",
    "\n",
    "class Rectangle(Common):\n",
    "    def __init__(self,length,width,x,y):\n",
    "        super().__init__(x, y) \n",
    "        self.__length= length\n",
    "        self.__width= width\n",
    "    \n",
    "    def area(self):\n",
    "        return self.__length * self.__width\n",
    "    def perimeter(self):\n",
    "        return (self.__length + self.__width)*2\n",
    "    def xy_inside(self, x, y):\n",
    "        return (self.print_x() <= x <= self.print_x() + self.__length) and \\\n",
    "               (self.print_y() <= y <= self.print_y() + self.__width)\n",
    "\n",
    "class Circle(Common):\n",
    "    def __init__(self,radius,x,y):\n",
    "        super().__init__(x, y)\n",
    "        self.__radius = radius\n",
    "    def area(self):\n",
    "        return math.pi* self.__radius **2\n",
    "    def perimeter(self):\n",
    "        return 2 * math.pi* self.__radius\n",
    "    def xy_inside(self, x, y):\n",
    "        return math.sqrt((x- self.print_x()) **2 + (y - self.print_y()) ** 2) <= self.__radius\n",
    "\n",
    "class Triangle(Common):\n",
    "    def __init__(self, base, height, x, y):\n",
    "        super().__init__(x, y)\n",
    "        self.__base, self.__height= base, height\n",
    "    def area(self):\n",
    "        return self.__base * self.__height/ 2\n",
    "    def perimeter(self):\n",
    "        raise Error('Perimeter not for right triangle')\n",
    "    def xy_inside(self, x, y):\n",
    "        return 0 <= x - self.print_x() <= self.__base and 0 <= y - self.print_y() <= self.__height"
   ]
  },
  {
   "cell_type": "code",
   "execution_count": 61,
   "metadata": {},
   "outputs": [
    {
     "name": "stdout",
     "output_type": "stream",
     "text": [
      "testing Rectangle:\n",
      "point (3, 1): Inside? False\n",
      "point (2, 2): Inside? False\n",
      "point (1, 0): Inside? False\n",
      "point (0, 0): Inside? False\n",
      "\n",
      "testing Circle:\n",
      "point 0: Inside? True\n",
      "point 0: Inside? True\n",
      "\n",
      "testing Triangle:\n"
     ]
    },
    {
     "ename": "TypeError",
     "evalue": "'int' object is not iterable",
     "output_type": "error",
     "traceback": [
      "\u001b[0;31m---------------------------------------------------------------------------\u001b[0m",
      "\u001b[0;31mTypeError\u001b[0m                                 Traceback (most recent call last)",
      "Cell \u001b[0;32mIn[61], line 8\u001b[0m\n\u001b[1;32m      6\u001b[0m \u001b[38;5;28;01mfor\u001b[39;00m Common \u001b[38;5;129;01min\u001b[39;00m Common:\n\u001b[1;32m      7\u001b[0m     \u001b[38;5;28mprint\u001b[39m(\u001b[38;5;124mf\u001b[39m\u001b[38;5;124m\"\u001b[39m\u001b[38;5;124mtesting \u001b[39m\u001b[38;5;132;01m{\u001b[39;00m\u001b[38;5;28mtype\u001b[39m(Common)\u001b[38;5;241m.\u001b[39m\u001b[38;5;18m__name__\u001b[39m\u001b[38;5;132;01m}\u001b[39;00m\u001b[38;5;124m:\u001b[39m\u001b[38;5;124m\"\u001b[39m)\n\u001b[0;32m----> 8\u001b[0m     \u001b[38;5;28;01mfor\u001b[39;00m points \u001b[38;5;129;01min\u001b[39;00m points:\n\u001b[1;32m      9\u001b[0m         \u001b[38;5;28mprint\u001b[39m(\u001b[38;5;124mf\u001b[39m\u001b[38;5;124m\"\u001b[39m\u001b[38;5;124mpoint \u001b[39m\u001b[38;5;132;01m{\u001b[39;00mpoints\u001b[38;5;132;01m}\u001b[39;00m\u001b[38;5;124m: Inside? \u001b[39m\u001b[38;5;132;01m{\u001b[39;00mCommon\u001b[38;5;241m.\u001b[39mxy_inside(\u001b[38;5;241m*\u001b[39mpoint)\u001b[38;5;132;01m}\u001b[39;00m\u001b[38;5;124m\"\u001b[39m)\n\u001b[1;32m     10\u001b[0m     \u001b[38;5;28mprint\u001b[39m()\n",
      "\u001b[0;31mTypeError\u001b[0m: 'int' object is not iterable"
     ]
    }
   ],
   "source": [
    "Common= [\n",
    "    Rectangle(2,4,0,0),\n",
    "         Circle(7,0,0),\n",
    "         Triangle(4,8,0,0)]\n",
    "points= [(3,1),(2,2),(1,0),(0,0)]\n",
    "for Common in Common:\n",
    "    print(f\"testing {type(Common).__name__}:\")\n",
    "    for points in points:\n",
    "        print(f\"point {points}: Inside? {Common.xy_inside(*point)}\")\n",
    "    print()"
   ]
  },
  {
   "cell_type": "markdown",
   "metadata": {},
   "source": [
    "8. Add a function to the object classes that return a list of up to 16 pairs of  $x$ and $y$ points on the parameter of the object.\n",
    "\n"
   ]
  },
  {
   "cell_type": "code",
   "execution_count": 62,
   "metadata": {},
   "outputs": [],
   "source": [
    "class Common:\n",
    "    def __init__(self, x, y):\n",
    "        self.__x, self.__y = x, y\n",
    "        \n",
    "    def print_x(self):\n",
    "        return self.__x\n",
    "        \n",
    "    def print_y(self):\n",
    "        return self.__y\n",
    "        \n",
    "    def area(self):\n",
    "        raise NotImplementedError('Must implement the area method')\n",
    "    def perimeter(self):\n",
    "        raise NotImplementedError('Must implement the perimeter method')\n",
    "    def xy_inside(self, x,y):\n",
    "        raise NotImplementedError('Must implement the xy_inside method')\n",
    "    def parameter_list(self):\n",
    "        raise NotImplementedError(\"Must implement parameter_list method\")\n",
    "\n",
    "class Rectangle(Common):\n",
    "    def __init__(self,length,width,x,y):\n",
    "        super().__init__(x, y) \n",
    "        self.__length= length\n",
    "        self.__width= width\n",
    "    \n",
    "    def area(self):\n",
    "        return self.__length * self.__width\n",
    "    def perimeter(self):\n",
    "        return (self.__length + self.__width)*2\n",
    "    def xy_inside(self, x, y):\n",
    "        return (self.print_x() <= x <= self.print_x() + self.__length) and \\\n",
    "               (self.print_y() <= y <= self.print_y() + self.__width)\n",
    "    def parameter_list(self):\n",
    "        return [(self.print_x() + i * self.__length / 16, self.print_y()) for i in range(17)] + \\\n",
    "               [(self.print_x() + self.__length, self.print_y() + i * self.__width / 16) for i in range(1, 17)] + \\\n",
    "               [(self.print_x() + (16 - i) * self.__length / 16, self.print_y() + self.__width) for i in range(1, 17)] + \\\n",
    "               [(self.print_x(), self.print_y() + (16 - i) * self.__width / 16) for i in range(1, 16)]\n",
    "\n",
    "class Circle(Common):\n",
    "    def __init__(self,radius,x,y):\n",
    "        super().__init__(x, y)\n",
    "        self.__radius = radius\n",
    "    def area(self):\n",
    "        return math.pi* self.__radius **2\n",
    "    def perimeter(self):\n",
    "        return 2 * math.pi* self.__radius\n",
    "    def xy_inside(self, x, y):\n",
    "        return math.sqrt((x- self.print_x()) **2 + (y - self.print_y()) ** 2) <= self.__radius\n",
    "    def parameter_list(self):\n",
    "        return [(self.print_x() + self.__radius * math.cos(math.radians(angle)), \n",
    "                 self.print_y() + self.__radius * math.sin(math.radians(angle))) \n",
    "                for angle in range(0, 360, 360 // 16)]\n",
    "\n",
    "class Triangle(Common):\n",
    "    def __init__(self, base, height, x, y):\n",
    "        super().__init__(x, y)\n",
    "        self.__base, self.__height= base, height\n",
    "    def area(self):\n",
    "        return self.__base * self.__height/ 2\n",
    "    def perimeter(self):\n",
    "        raise Error('Perimeter not for right triangle')\n",
    "    def xy_inside(self, x, y):\n",
    "        return 0 <= x - self.print_x() <= self.__base and 0 <= y - self.print_y() <= self.__height\n",
    "    def parameter_list(self):\n",
    "        return [(self.print_x() + i * self.__base / 16, self.print_y()) for i in range(17)] + \\\n",
    "               [(self.print_x() + self.__base, self.print_y() + i * self.__height / 16) for i in range(1, 17)] + \\\n",
    "               [(self.print_x() + (16 - i) * self.__base / 16, self.print_y() + self.__height) for i in range(1, 17)]"
   ]
  },
  {
   "cell_type": "code",
   "execution_count": 69,
   "metadata": {},
   "outputs": [
    {
     "name": "stdout",
     "output_type": "stream",
     "text": [
      "List for Rectangle: [(0.0, 0), (0.125, 0), (0.25, 0), (0.375, 0), (0.5, 0), (0.625, 0), (0.75, 0), (0.875, 0), (1.0, 0), (1.125, 0), (1.25, 0), (1.375, 0), (1.5, 0), (1.625, 0), (1.75, 0), (1.875, 0), (2.0, 0), (2, 0.25), (2, 0.5), (2, 0.75), (2, 1.0), (2, 1.25), (2, 1.5), (2, 1.75), (2, 2.0), (2, 2.25), (2, 2.5), (2, 2.75), (2, 3.0), (2, 3.25), (2, 3.5), (2, 3.75), (2, 4.0), (1.875, 4), (1.75, 4), (1.625, 4), (1.5, 4), (1.375, 4), (1.25, 4), (1.125, 4), (1.0, 4), (0.875, 4), (0.75, 4), (0.625, 4), (0.5, 4), (0.375, 4), (0.25, 4), (0.125, 4), (0.0, 4), (0, 3.75), (0, 3.5), (0, 3.25), (0, 3.0), (0, 2.75), (0, 2.5), (0, 2.25), (0, 2.0), (0, 1.75), (0, 1.5), (0, 1.25), (0, 1.0), (0, 0.75), (0, 0.5), (0, 0.25)]\n",
      "List for Circle: [(7.0, 0.0), (6.490286981967512, 2.622246153911384), (5.0353786023705585, 4.862608593212981), (2.8471565015306015, 6.394818203498206), (0.24429647691750755, 6.99573578913367), (-2.394141003279681, 6.5778483455013586), (-4.683914244512008, 5.20201377834176), (-6.2915583240941695, 3.068598027523541), (-6.982948351818769, 0.48829531620887867), (-6.6573956140660755, -2.163118960624631), (-5.362311101832846, -4.499513267805774), (-3.2863009395012353, -6.180633150012489), (-0.7316992428735736, -6.961653267577914), (1.9294614907189958, -6.728831871568231), (4.30963032727961, -5.5160752752470525), (6.062177826491069, -3.500000000000003), (6.931876481190992, -0.9742117067204612)]\n",
      "List for Triangle: [(0.0, 0), (0.25, 0), (0.5, 0), (0.75, 0), (1.0, 0), (1.25, 0), (1.5, 0), (1.75, 0), (2.0, 0), (2.25, 0), (2.5, 0), (2.75, 0), (3.0, 0), (3.25, 0), (3.5, 0), (3.75, 0), (4.0, 0), (4, 0.5), (4, 1.0), (4, 1.5), (4, 2.0), (4, 2.5), (4, 3.0), (4, 3.5), (4, 4.0), (4, 4.5), (4, 5.0), (4, 5.5), (4, 6.0), (4, 6.5), (4, 7.0), (4, 7.5), (4, 8.0), (3.75, 8), (3.5, 8), (3.25, 8), (3.0, 8), (2.75, 8), (2.5, 8), (2.25, 8), (2.0, 8), (1.75, 8), (1.5, 8), (1.25, 8), (1.0, 8), (0.75, 8), (0.5, 8), (0.25, 8), (0.0, 8)]\n"
     ]
    }
   ],
   "source": [
    "print('List for Rectangle:',Rectangle(2,4,0,0).parameter_list())\n",
    "print('List for Circle:',Circle(7,0,0).parameter_list())\n",
    "print('List for Triangle:',Triangle(4,8,0,0).parameter_list())"
   ]
  },
  {
   "cell_type": "markdown",
   "metadata": {},
   "source": [
    "9. Add a function in the base class of the object classes that returns true/false testing that the object overlaps with another object."
   ]
  },
  {
   "cell_type": "code",
   "execution_count": 70,
   "metadata": {},
   "outputs": [],
   "source": [
    "class Common:\n",
    "    def __init__(self, x, y):\n",
    "        self.__x, self.__y = x, y\n",
    "        \n",
    "    def print_x(self):\n",
    "        return self.__x\n",
    "        \n",
    "    def print_y(self):\n",
    "        return self.__y\n",
    "        \n",
    "    def area(self):\n",
    "        raise NotImplementedError('Must implement the area method')\n",
    "    def perimeter(self):\n",
    "        raise NotImplementedError('Must implement the perimeter method')\n",
    "    def xy_inside(self, x,y):\n",
    "        raise NotImplementedError('Must implement the xy_inside method')\n",
    "    def parameter_list(self):\n",
    "        raise NotImplementedError(\"Must implement parameter_list method\")\n",
    "    def tf_overlap(self, other):\n",
    "        raise NotImplementedError(\"Must implement tf_overlap method\")\n",
    "\n",
    "\n",
    "class Rectangle(Common):\n",
    "    def __init__(self,length,width,x,y):\n",
    "        super().__init__(x, y) \n",
    "        self.__length= length\n",
    "        self.__width= width\n",
    "    \n",
    "    def area(self):\n",
    "        return self.__length * self.__width\n",
    "    def perimeter(self):\n",
    "        return (self.__length + self.__width)*2\n",
    "    def xy_inside(self, x, y):\n",
    "        return (self.print_x() <= x <= self.print_x() + self.__length) and \\\n",
    "               (self.print_y() <= y <= self.print_y() + self.__width)\n",
    "    def parameter_list(self):\n",
    "        return [(self.print_x() + i * self.__length / 16, self.print_y()) for i in range(17)] + \\\n",
    "               [(self.print_x() + self.__length, self.print_y() + i * self.__width / 16) for i in range(1, 17)] + \\\n",
    "               [(self.print_x() + (16 - i) * self.__length / 16, self.print_y() + self.__width) for i in range(1, 17)] + \\\n",
    "               [(self.print_x(), self.print_y() + (16 - i) * self.__width / 16) for i in range(1, 16)]\n",
    "    def tf_overlap(self, other):\n",
    "        if isinstance(other, Rectangle):\n",
    "            return (self.print_x() < other.print_x() + other.__length and\n",
    "                    self.print_x() + self.__length > other.print_x() and\n",
    "                    self.print_y() < other.print_y() + other.__width and\n",
    "                    self.print_y() + self.__width > other.print_y())\n",
    "        elif isinstance(other, Circle):\n",
    "            the_closest_x = max(self.print_x(), min(other.print_x(), self.print_x() + self.__length))\n",
    "            the_closest_y = max(self.print_y(), min(other.get_y(), self.print_y() + self.__width))\n",
    "            return (closest_x - other.get_x()) ** 2 + (the_closest_y - other.print_y()) ** 2 <= other.print_radius() ** 2\n",
    "        elif isinstance(other, Triangle):\n",
    "            return any(other.xy_inside(*points) for points in self.parameter_list())\n",
    "        else:\n",
    "            raise Error(\"Error Shape\")\n",
    "\n",
    "class Circle(Common):\n",
    "    def __init__(self,radius,x,y):\n",
    "        super().__init__(x, y)\n",
    "        self.__radius = radius\n",
    "    def area(self):\n",
    "        return math.pi* self.__radius **2\n",
    "    def perimeter(self):\n",
    "        return 2 * math.pi* self.__radius\n",
    "    def xy_inside(self, x, y):\n",
    "        return math.sqrt((x- self.print_x()) **2 + (y - self.print_y()) ** 2) <= self.__radius\n",
    "    def parameter_list(self):\n",
    "        return [(self.print_x() + self.__radius * math.cos(math.radians(angle)), \n",
    "                 self.print_y() + self.__radius * math.sin(math.radians(angle))) \n",
    "                for angle in range(0, 360, 360 // 16)]\n",
    "    def tf_overlap(self, other):\n",
    "        if isinstance(other, Circle):\n",
    "            return math.sqrt((self.print_x() - other.print_x()) ** 2 + (self.print_y() - other.print_y()) ** 2) <= self.__radius + other.print_radius()\n",
    "        elif isinstance(other, Rectangle):\n",
    "            return other.tf_overlap(self)\n",
    "        elif isinstance(other, Triangle):\n",
    "            return any(other.xy_inside(*points) for points in self.parameter_list())\n",
    "        else:\n",
    "            raise Error(\"Error shape\")\n",
    "\n",
    "class Triangle(Common):\n",
    "    def __init__(self, base, height, x, y):\n",
    "        super().__init__(x, y)\n",
    "        self.__base, self.__height= base, height\n",
    "    def area(self):\n",
    "        return self.__base * self.__height/ 2\n",
    "    def perimeter(self):\n",
    "        raise Error('Perimeter not for right triangle')\n",
    "    def xy_inside(self, x, y):\n",
    "        return 0 <= x - self.print_x() <= self.__base and 0 <= y - self.print_y() <= self.__height\n",
    "    def parameter_list(self):\n",
    "        return [(self.print_x() + i * self.__base / 16, self.print_y()) for i in range(17)] + \\\n",
    "               [(self.print_x() + self.__base, self.print_y() + i * self.__height / 16) for i in range(1, 17)] + \\\n",
    "               [(self.print_x() + (16 - i) * self.__base / 16, self.print_y() + self.__height) for i in range(1, 17)]\n",
    "    def tf_overlap(self, other):\n",
    "        if isinstance(other, Triangle):\n",
    "            return any(self.xy_inside(*points) for points in other.parameter_list()) or \\\n",
    "                   any(other.xy_inside(*points) for points in self.parameter_list())\n",
    "        elif isinstance(other, Rectangle):\n",
    "            return other.tf_overlap(self)\n",
    "        elif isinstance(other, Circle):\n",
    "            return other.tf_overlap(self)\n",
    "        else:\n",
    "            raise Error(\"Error shape\")"
   ]
  },
  {
   "cell_type": "markdown",
   "metadata": {},
   "source": [
    "10. Copy the `Canvas` class from lecture to in a python file creating a `paint` module. Copy your classes from above into the module and implement paint functions. Implement a `CompoundShape` class. Create a simple drawing demonstrating that all of your classes are working."
   ]
  },
  {
   "cell_type": "code",
   "execution_count": 78,
   "metadata": {},
   "outputs": [],
   "source": [
    "import matplotlib.pyplot as plt\n",
    "from matplotlib.patches import Rectangle as plt_Rectangle, Circle as plt_Circle, Polygon\n",
    "class Canvas:\n",
    "    def __init__(self, width, height):\n",
    "        self.width = width\n",
    "        self.height = height\n",
    "        self.data = [[' '] * width for i in range(height)]\n",
    "\n",
    "    def set_pixel(self, row, col, char='*'):\n",
    "        self.data[row][col] = char\n",
    "\n",
    "    def get_pixel(self, row, col):\n",
    "        return self.data[row][col]\n",
    "    \n",
    "    def clear_canvas(self):\n",
    "        self.data = [[' '] * self.width for i in range(self.height)]\n",
    "    \n",
    "    def v_line(self, x, y, w, **kargs):\n",
    "        for i in range(x,x+w):\n",
    "            self.set_pixel(i,y, **kargs)\n",
    "\n",
    "    def h_line(self, x, y, h, **kargs):\n",
    "        for i in range(y,y+h):\n",
    "            self.set_pixel(x,i, **kargs)\n",
    "            \n",
    "    def line(self, x1, y1, x2, y2, **kargs):\n",
    "        slope = (y2-y1) / (x2-x1)\n",
    "        for y in range(y1,y2):\n",
    "            x= int(slope * y)\n",
    "            self.set_pixel(x,y, **kargs)\n",
    "            \n",
    "    def display(self):\n",
    "        print(\"\\n\".join([\"\".join(row) for row in self.data]))\n",
    "class Common:\n",
    "    def __init__(self, x, y):\n",
    "        self.__x, self.__y = x, y\n",
    "        \n",
    "    def print_x(self):\n",
    "        return self.__x\n",
    "        \n",
    "    def print_y(self):\n",
    "        return self.__y\n",
    "        \n",
    "    def area(self):\n",
    "        raise NotImplementedError('Must implement the area method')\n",
    "    def perimeter(self):\n",
    "        raise NotImplementedError('Must implement the perimeter method')\n",
    "    def xy_inside(self, x,y):\n",
    "        raise NotImplementedError('Must implement the xy_inside method')\n",
    "    def parameter_list(self):\n",
    "        raise NotImplementedError(\"Must implement parameter_list method\")\n",
    "    def tf_overlap(self, other):\n",
    "        raise NotImplementedError(\"Must implement tf_overlap method\")\n",
    "    def paint(self, ax):\n",
    "        raise NotImplementedError(\"Must implement paint method\")\n",
    "\n",
    "\n",
    "\n",
    "class Rectangle(Common):\n",
    "    def __init__(self,length,width,x,y):\n",
    "        super().__init__(x, y) \n",
    "        self.__length= length\n",
    "        self.__width= width\n",
    "    \n",
    "    def area(self):\n",
    "        return self.__length * self.__width\n",
    "    def perimeter(self):\n",
    "        return (self.__length + self.__width)*2\n",
    "    def xy_inside(self, x, y):\n",
    "        return (self.print_x() <= x <= self.print_x() + self.__length) and \\\n",
    "               (self.print_y() <= y <= self.print_y() + self.__width)\n",
    "    def parameter_list(self):\n",
    "        return [(self.print_x() + i * self.__length / 16, self.print_y()) for i in range(17)] + \\\n",
    "               [(self.print_x() + self.__length, self.print_y() + i * self.__width / 16) for i in range(1, 17)] + \\\n",
    "               [(self.print_x() + (16 - i) * self.__length / 16, self.print_y() + self.__width) for i in range(1, 17)] + \\\n",
    "               [(self.print_x(), self.print_y() + (16 - i) * self.__width / 16) for i in range(1, 16)]\n",
    "    def tf_overlap(self, other):\n",
    "        if isinstance(other, Rectangle):\n",
    "            return (self.print_x() < other.print_x() + other.__length and\n",
    "                    self.print_x() + self.__length > other.print_x() and\n",
    "                    self.print_y() < other.print_y() + other.__width and\n",
    "                    self.print_y() + self.__width > other.print_y())\n",
    "        elif isinstance(other, Circle):\n",
    "            the_closest_x = max(self.print_x(), min(other.print_x(), self.print_x() + self.__length))\n",
    "            the_closest_y = max(self.print_y(), min(other.get_y(), self.print_y() + self.__width))\n",
    "            return (closest_x - other.get_x()) ** 2 + (the_closest_y - other.print_y()) ** 2 <= other.print_radius() ** 2\n",
    "        elif isinstance(other, Triangle):\n",
    "            return any(other.xy_inside(*points) for points in self.parameter_list())\n",
    "        else:\n",
    "            raise Error(\"Error Shape\")\n",
    "    def paint(self, ax):\n",
    "        ax.add_patch(plt_Rectangle((self.print_x(), self.print_y()), self.__length, self.__width, edgecolor='blue', facecolor='none'))\n",
    "\n",
    "class Circle(Common):\n",
    "    def __init__(self,radius,x,y):\n",
    "        super().__init__(x, y)\n",
    "        self.__radius = radius\n",
    "    def area(self):\n",
    "        return math.pi* self.__radius **2\n",
    "    def perimeter(self):\n",
    "        return 2 * math.pi* self.__radius\n",
    "    def xy_inside(self, x, y):\n",
    "        return math.sqrt((x- self.print_x()) **2 + (y - self.print_y()) ** 2) <= self.__radius\n",
    "    def parameter_list(self):\n",
    "        return [(self.print_x() + self.__radius * math.cos(math.radians(angle)), \n",
    "                 self.print_y() + self.__radius * math.sin(math.radians(angle))) \n",
    "                for angle in range(0, 360, 360 // 16)]\n",
    "    def tf_overlap(self, other):\n",
    "        if isinstance(other, Circle):\n",
    "            return math.sqrt((self.print_x() - other.print_x()) ** 2 + (self.print_y() - other.print_y()) ** 2) <= self.__radius + other.print_radius()\n",
    "        elif isinstance(other, Rectangle):\n",
    "            return other.tf_overlap(self)\n",
    "        elif isinstance(other, Triangle):\n",
    "            return any(other.xy_inside(*points) for points in self.parameter_list())\n",
    "        else:\n",
    "            raise Error(\"Error shape\")\n",
    "    def paint(self, ax):\n",
    "        ax.add_patch(plt_Circle((self.print_x(), self.print_y()), self.__radius, edgecolor='blue', facecolor='none'))\n",
    "\n",
    "\n",
    "class Triangle(Common):\n",
    "    def __init__(self, base, height, x, y):\n",
    "        super().__init__(x, y)\n",
    "        self.__base, self.__height= base, height\n",
    "    def area(self):\n",
    "        return self.__base * self.__height/ 2\n",
    "    def perimeter(self):\n",
    "        raise Error('Perimeter not for right triangle')\n",
    "    def xy_inside(self, x, y):\n",
    "        return 0 <= x - self.print_x() <= self.__base and 0 <= y - self.print_y() <= self.__height\n",
    "    def parameter_list(self):\n",
    "        return [(self.print_x() + i * self.__base / 16, self.print_y()) for i in range(17)] + \\\n",
    "               [(self.print_x() + self.__base, self.print_y() + i * self.__height / 16) for i in range(1, 17)] + \\\n",
    "               [(self.print_x() + (16 - i) * self.__base / 16, self.print_y() + self.__height) for i in range(1, 17)]\n",
    "    def tf_overlap(self, other):\n",
    "        if isinstance(other, Triangle):\n",
    "            return any(self.xy_inside(*points) for points in other.parameter_list()) or \\\n",
    "                   any(other.xy_inside(*points) for points in self.parameter_list())\n",
    "        elif isinstance(other, Rectangle):\n",
    "            return other.tf_overlap(self)\n",
    "        elif isinstance(other, Circle):\n",
    "            return other.tf_overlap(self)\n",
    "        else:\n",
    "            raise Error(\"Error shape\")\n",
    "    def paint(self, ax):\n",
    "        points = [(self.print_x(), self.print_y()), \n",
    "                  (self.print_x() + self.__base, self.print_y()), \n",
    "                  (self.print_x() + self.__base / 2, self.print_y() + self.__height)]\n",
    "        ax.add_patch(Polygon(points, edgecolor='blue', facecolor='none'))\n",
    "\n",
    "class Compound(Common):\n",
    "    def __init__(self, *common):\n",
    "        super().__init__(0, 0)\n",
    "        self.__common = common\n",
    "\n",
    "    def area(self):\n",
    "        return sum(common.area() for common in self.__common)\n",
    "    def perimeter(self):\n",
    "        return sum(shape.perimeter() for common in self.__common)\n",
    "    def xy_inside(self, x, y):\n",
    "        return any(shape.xy_inside(x, y) for common in self.__common)\n",
    "    def parameter_list(self):\n",
    "        points = []\n",
    "        for shape in self.__common:\n",
    "            points.extend(common.parameter_list())\n",
    "        return points\n",
    "\n",
    "    def tf_overlap(self, other):\n",
    "        return any(shape.tf_overlap(other) for common in self.__common)\n",
    "\n",
    "    def paint(self, ax):\n",
    "        for shape in self.__common:\n",
    "            shape.paint(ax)"
   ]
  },
  {
   "cell_type": "code",
   "execution_count": 80,
   "metadata": {},
   "outputs": [
    {
     "ename": "NameError",
     "evalue": "name 'ax' is not defined",
     "output_type": "error",
     "traceback": [
      "\u001b[0;31m---------------------------------------------------------------------------\u001b[0m",
      "\u001b[0;31mNameError\u001b[0m                                 Traceback (most recent call last)",
      "Cell \u001b[0;32mIn[80], line 6\u001b[0m\n\u001b[1;32m      3\u001b[0m triangle \u001b[38;5;241m=\u001b[39m Triangle(\u001b[38;5;241m8\u001b[39m, \u001b[38;5;241m5\u001b[39m, \u001b[38;5;241m10\u001b[39m, \u001b[38;5;241m1\u001b[39m)\n\u001b[1;32m      4\u001b[0m Compound(rectangle, circle, triangle)\n\u001b[0;32m----> 6\u001b[0m Compound(rectangle, circle, triangle)\u001b[38;5;241m.\u001b[39mpaint(\u001b[43max\u001b[49m)\n\u001b[1;32m      7\u001b[0m ax\u001b[38;5;241m.\u001b[39mset_xlim(\u001b[38;5;241m0\u001b[39m, \u001b[38;5;241m10\u001b[39m)\n\u001b[1;32m      8\u001b[0m ax\u001b[38;5;241m.\u001b[39mset_ylim(\u001b[38;5;241m0\u001b[39m, \u001b[38;5;241m10\u001b[39m)\n",
      "\u001b[0;31mNameError\u001b[0m: name 'ax' is not defined"
     ]
    }
   ],
   "source": [
    "\n",
    "rectangle = Rectangle(6, 4, 1, 1)\n",
    "circle = Circle(7, 0, 0)\n",
    "triangle = Triangle(8, 5, 10, 1)\n",
    "Compound(rectangle, circle, triangle)\n",
    "\n",
    "Compound(rectangle, circle, triangle).paint(ax)\n",
    "ax.set_xlim(0, 10)\n",
    "ax.set_ylim(0, 10)\n",
    "\n",
    "plt.gca().set_aspect('equal', adjustable='box')\n",
    "plt.show()    #I dont know why my ax is not defining even though i already assigned it in the class paint\n"
   ]
  },
  {
   "cell_type": "markdown",
   "metadata": {},
   "source": [
    "11. Create a `RasterDrawing` class. Demonstrate that you can create a drawing made of several shapes, paint the drawing, modify the drawing, and paint it again. "
   ]
  },
  {
   "cell_type": "code",
   "execution_count": null,
   "metadata": {},
   "outputs": [],
   "source": []
  },
  {
   "cell_type": "markdown",
   "metadata": {},
   "source": [
    "12. Implement the ability to load/save raster drawings and demonstate that your method works. One way to implement this ability:\n",
    "\n",
    "   * Overload `__repr__` functions of all objects to return strings of the python code that would construct the object.\n",
    "   \n",
    "   * In the save method of raster drawing class, store the representations into the file.\n",
    "   * Write a loader function that reads the file and uses `eval` to instantiate the object.\n",
    "\n",
    "For example:"
   ]
  },
  {
   "cell_type": "code",
   "execution_count": 1,
   "metadata": {},
   "outputs": [],
   "source": [
    "class foo:\n",
    "    def __init__(self,a,b=None):\n",
    "        self.a=a\n",
    "        self.b=b\n",
    "        \n",
    "    def __repr__(self):\n",
    "        return \"foo(\"+repr(self.a)+\",\"+repr(self.b)+\")\"\n",
    "    \n",
    "    def save(self,filename):\n",
    "        f=open(filename,\"w\")\n",
    "        f.write(self.__repr__())\n",
    "        f.close()\n",
    "        \n",
    "   \n",
    "def foo_loader(filename):\n",
    "    f=open(filename,\"r\")\n",
    "    tmp=eval(f.read())\n",
    "    f.close()\n",
    "    return tmp\n"
   ]
  },
  {
   "cell_type": "code",
   "execution_count": 2,
   "metadata": {},
   "outputs": [
    {
     "name": "stdout",
     "output_type": "stream",
     "text": [
      "foo(1,'hello')\n"
     ]
    }
   ],
   "source": [
    "# Test\n",
    "print(repr(foo(1,\"hello\")))"
   ]
  },
  {
   "cell_type": "code",
   "execution_count": 3,
   "metadata": {},
   "outputs": [],
   "source": [
    "# Create an object and save it\n",
    "ff=foo(1,\"hello\")\n",
    "ff.save(\"Test.foo\")"
   ]
  },
  {
   "cell_type": "code",
   "execution_count": 4,
   "metadata": {},
   "outputs": [
    {
     "name": "stdout",
     "output_type": "stream",
     "text": [
      "foo(1,'hello')"
     ]
    }
   ],
   "source": [
    "# Check contents of the saved file\n",
    "!cat Test.foo"
   ]
  },
  {
   "cell_type": "code",
   "execution_count": 5,
   "metadata": {},
   "outputs": [
    {
     "data": {
      "text/plain": [
       "foo(1,'hello')"
      ]
     },
     "execution_count": 5,
     "metadata": {},
     "output_type": "execute_result"
    }
   ],
   "source": [
    "# Load the object\n",
    "ff_reloaded=foo_loader(\"Test.foo\")\n",
    "ff_reloaded"
   ]
  },
  {
   "cell_type": "code",
   "execution_count": null,
   "metadata": {},
   "outputs": [],
   "source": []
  },
  {
   "cell_type": "code",
   "execution_count": null,
   "metadata": {},
   "outputs": [],
   "source": []
  }
 ],
 "metadata": {
  "kernelspec": {
   "display_name": "Python 3 (ipykernel)",
   "language": "python",
   "name": "python3"
  },
  "language_info": {
   "codemirror_mode": {
    "name": "ipython",
    "version": 3
   },
   "file_extension": ".py",
   "mimetype": "text/x-python",
   "name": "python",
   "nbconvert_exporter": "python",
   "pygments_lexer": "ipython3",
   "version": "3.10.12"
  }
 },
 "nbformat": 4,
 "nbformat_minor": 4
}
