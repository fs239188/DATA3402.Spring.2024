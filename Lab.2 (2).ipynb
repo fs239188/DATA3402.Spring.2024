{
 "cells": [
  {
   "cell_type": "markdown",
   "metadata": {},
   "source": [
    "## Lab 2- Tic Tac Toe\n",
    "\n",
    "In this lab your will build a n x n Tic Tac Toe game. As you do the exercises, make sure your solutions work for any size Tic Tac Toe game. "
   ]
  },
  {
   "cell_type": "markdown",
   "metadata": {},
   "source": [
    "*Exercise 1:* Write a function that creates an n by n matrix (of list of lists) which will represent the state of a Tie Tac Toe game. Let 0, 1, and 2 represent empty, \"X\", and \"O\", respectively.\n"
   ]
  },
  {
   "cell_type": "code",
   "execution_count": 234,
   "metadata": {},
   "outputs": [],
   "source": [
    "def make_matrix(n):\n",
    "    return [[0]*n for _ in range(n)]"
   ]
  },
  {
   "cell_type": "code",
   "execution_count": 242,
   "metadata": {},
   "outputs": [
    {
     "data": {
      "text/plain": [
       "[[0, 0, 0], [0, 0, 0], [0, 0, 0]]"
      ]
     },
     "execution_count": 242,
     "metadata": {},
     "output_type": "execute_result"
    }
   ],
   "source": [
    "n=3\n",
    "ttt=make_matrix(3)\n",
    "ttt"
   ]
  },
  {
   "cell_type": "markdown",
   "metadata": {},
   "source": [
    "*Exercise 2:* Write a function that takes 2 integers `n` and `m` as input and draws a `n` by `m` game board. For example the following is a 3x3 board:\n",
    "```\n",
    "   --- --- --- \n",
    "  |   |   |   | \n",
    "   --- --- ---  \n",
    "  |   |   |   | \n",
    "   --- --- ---  \n",
    "  |   |   |   | \n",
    "   --- --- --- \n",
    "   ```"
   ]
  },
  {
   "cell_type": "code",
   "execution_count": 236,
   "metadata": {},
   "outputs": [],
   "source": [
    "def ttt(n, m):\n",
    "    for i in range(n):\n",
    "        print(' ---' * m)\n",
    "        print('|   ' * (m + 1))\n",
    "    print(' ---' * m)\n",
    "    \n",
    "    \n",
    "\n",
    "\n",
    "    "
   ]
  },
  {
   "cell_type": "code",
   "execution_count": 240,
   "metadata": {},
   "outputs": [
    {
     "name": "stdout",
     "output_type": "stream",
     "text": [
      " --- --- ---\n",
      "|   |   |   |   \n",
      " --- --- ---\n",
      "|   |   |   |   \n",
      " --- --- ---\n",
      "|   |   |   |   \n",
      " --- --- ---\n"
     ]
    }
   ],
   "source": [
    "m=3\n",
    "n=3\n",
    "ttt(n,m)"
   ]
  },
  {
   "cell_type": "markdown",
   "metadata": {},
   "source": [
    "*Exercise 3:* Modify exercise 2, so that it takes a matrix of the form from exercise 1 and draws a tic-tac-tie board with \"X\"s and \"O\"s.  "
   ]
  },
  {
   "cell_type": "code",
   "execution_count": 239,
   "metadata": {
    "scrolled": true
   },
   "outputs": [],
   "source": [
    "def draw_ttt(matrix):\n",
    "   n = len(matrix)\n",
    "   m = len(matrix[0]) if n > 0 else 0\n",
    "   for i in range(n):\n",
    "       print(' ---' * n)\n",
    "       for j in range(n):\n",
    "           print(f'| {matrix[i][j]} ', end='')\n",
    "       print('|')\n",
    "   print(' ---' * m)\n",
    "\n",
    "            "
   ]
  },
  {
   "cell_type": "code",
   "execution_count": 243,
   "metadata": {},
   "outputs": [
    {
     "name": "stdout",
     "output_type": "stream",
     "text": [
      " --- --- ---\n",
      "| 0 | 0 | 0 |\n",
      " --- --- ---\n",
      "| 0 | 0 | 0 |\n",
      " --- --- ---\n",
      "| 0 | 0 | 0 |\n",
      " --- --- ---\n"
     ]
    }
   ],
   "source": [
    "draw_ttt(ttt)"
   ]
  },
  {
   "cell_type": "markdown",
   "metadata": {},
   "source": [
    "*Exercise 4:* Write a function that takes a `n` by `n` matrix representing a tic-tac-toe game, and returns -1, 0, 1, or 2 indicating the game is incomplete, the game is a draw, player 1 has won, or player 2 has one, respectively. Here are some example inputs you can use to test your code:"
   ]
  },
  {
   "cell_type": "code",
   "execution_count": 190,
   "metadata": {},
   "outputs": [],
   "source": [
    "def checking_game(matrix):\n",
    "    for row in matrix:\n",
    "        if all(cell == 1 for cell in row):\n",
    "            return 1\n",
    "        elif all(cell ==2 for cell in row):\n",
    "            return 2\n",
    "                \n",
    "    for col in range(len(matrix[0])):\n",
    "        column = [matrix[row][col] for row in range(len(matrix))]\n",
    "        if all(cell == 1 for cell in column):\n",
    "            return 1\n",
    "        elif all(cell == 2 for cell in column):\n",
    "            return 2\n",
    "\n",
    "       \n",
    "    \n",
    "    across1 = [matrix[i][i] for i in range(len(matrix))] \n",
    "    across2 = [matrix[i][len(matrix) - i -1] for i in range(len(matrix))]\n",
    "    if all(cell ==1 for cell in across1) or all(cell ==1 for cell in across2):\n",
    "        return 1\n",
    "    elif all(cell ==2 for cell in across1) or all(cell ==2 for cell in across2):\n",
    "        return 2\n",
    "            \n",
    "    for row in matrix:\n",
    "        if 0 in row:\n",
    "            return -1\n",
    "    return 0\n",
    "\n"
   ]
  },
  {
   "cell_type": "code",
   "execution_count": 191,
   "metadata": {},
   "outputs": [
    {
     "name": "stdout",
     "output_type": "stream",
     "text": [
      "2\n"
     ]
    }
   ],
   "source": [
    "matrix = [[2, 2, 0],\n",
    "\t[2, 1, 0],\n",
    "\t[2, 1, 1]]\n",
    "print(checking_game(matrix))"
   ]
  },
  {
   "cell_type": "code",
   "execution_count": null,
   "metadata": {},
   "outputs": [],
   "source": [
    "\n",
    "winner_is_2 = [[2, 2, 0],\n",
    "\t[2, 1, 0],\n",
    "\t[2, 1, 1]]\n",
    "\n",
    "winner_is_1 = [[1, 2, 0],\n",
    "\t[2, 1, 0],\n",
    "\t[2, 1, 1]]\n",
    "\n",
    "winner_is_also_1 = [[0, 1, 0],\n",
    "\t[2, 1, 0],\n",
    "\t[2, 1, 1]]\n",
    "\n",
    "no_winner = [[1, 2, 0],\n",
    "\t[2, 1, 0],\n",
    "\t[2, 1, 2]]\n",
    "\n",
    "also_no_winner = [[1, 2, 0],\n",
    "\t[2, 1, 0],\n",
    "\t[2, 1, 0]]"
   ]
  },
  {
   "cell_type": "markdown",
   "metadata": {},
   "source": [
    "*Exercise 5:* Write a function that takes a game board, player number, and `(x,y)` coordinates and places \"X\" or \"O\" in the correct location of the game board. Make sure that you only allow filling previously empty locations. Return `True` or `False` to indicate successful placement of \"X\" or \"O\"."
   ]
  },
  {
   "cell_type": "code",
   "execution_count": 259,
   "metadata": {},
   "outputs": [
    {
     "name": "stdout",
     "output_type": "stream",
     "text": [
      " --- --- ---\n",
      "| 1 | 0 | 0 |\n",
      " --- --- ---\n",
      "| 0 | 2 | 0 |\n",
      " --- --- ---\n",
      "| 0 | X | 1 |\n",
      " --- --- ---\n"
     ]
    }
   ],
   "source": [
    "def placement(ttt, player_number, row, col):\n",
    "    if ttt[row][col] ==0:\n",
    "        ttt[row][col] = player_number\n",
    "        if player_number ==1:\n",
    "            ttt[row][col] ='X'\n",
    "        elif player_number == 2:\n",
    "            ttt[row][col] = 'O'\n",
    "        return True\n",
    "    else:\n",
    "        print('Location filled')\n",
    "        return False\n",
    "        \n",
    "        \n",
    "tic= draw_ttt(ttt)"
   ]
  },
  {
   "cell_type": "code",
   "execution_count": 263,
   "metadata": {},
   "outputs": [
    {
     "name": "stdout",
     "output_type": "stream",
     "text": [
      "True\n",
      " --- --- ---\n",
      "| 0 | 0 | 0 |\n",
      " --- --- ---\n",
      "| 0 | 2 | 0 |\n",
      " --- --- ---\n",
      "| 0 | X | 1 |\n",
      " --- --- ---\n"
     ]
    }
   ],
   "source": [
    "\n",
    "tic= [[0, 0, 0],\n",
    "\t[0, 2, 0],\n",
    "\t[0, 0, 1]]\n",
    "player_number= 1\n",
    "row=2\n",
    "col=1\n",
    "print(placement(tic, player_number, row, col))\n",
    "tic= draw_ttt(ttt)"
   ]
  },
  {
   "cell_type": "markdown",
   "metadata": {},
   "source": [
    "*Exercise 6:* Modify Exercise 4 to show column and row labels so that players can specify location using \"A2\" or \"C1\"."
   ]
  },
  {
   "cell_type": "code",
   "execution_count": 286,
   "metadata": {},
   "outputs": [],
   "source": [
    "def placement(ttt):\n",
    "    print('  A B C')\n",
    "    for i, row in enumerate(ttt):\n",
    "        print(f\"{i+1} {' '.join(str(cell) for cell in row)}\")"
   ]
  },
  {
   "cell_type": "code",
   "execution_count": 287,
   "metadata": {},
   "outputs": [
    {
     "name": "stdout",
     "output_type": "stream",
     "text": [
      "  A B C\n",
      "1 1 1 0\n",
      "2 2 0 0\n",
      "3 2 1 1\n"
     ]
    }
   ],
   "source": [
    "placement(ttt)"
   ]
  },
  {
   "cell_type": "markdown",
   "metadata": {},
   "source": [
    "*Exercise 7:* Write a function that takes a board, player number, and location specified as in exercise 6 and then calls exercise 5 to correctly modify the board.  "
   ]
  },
  {
   "cell_type": "code",
   "execution_count": 291,
   "metadata": {},
   "outputs": [],
   "source": [
    "def turn(board, player_number, location):\n",
    "    row_labels = {'A': 0, 'B': 1, 'C':2}\n",
    "    column_labels= {'1': 0, '2': 1, '3': 2}\n",
    "    if location[0] not in row_labels or location[1] not in column_labels:\n",
    "        print('Invalid loation')\n",
    "        return False\n",
    "    row_index= row_labels[location[0]]\n",
    "    column_index= column_labels[location[1]]\n",
    "\n",
    "    if board[row_index][column_index] ==0:\n",
    "        board[row_index][column_index] = player_number\n",
    "        if player_number== 1:\n",
    "           board[row_index][column_index] = 'X'\n",
    "        elif player_number== 2:\n",
    "           board[row_index][column_index] = 'O'\n",
    "        return True\n",
    "    else:\n",
    "        return False\n",
    "   \n",
    "    \n",
    "        \n",
    "    \n",
    "        \n",
    "\n",
    "\n",
    "    "
   ]
  },
  {
   "cell_type": "code",
   "execution_count": 292,
   "metadata": {},
   "outputs": [
    {
     "name": "stdout",
     "output_type": "stream",
     "text": [
      "True\n",
      "[['O', 1, 0], [2, 0, 0], [2, 1, 1]]\n"
     ]
    }
   ],
   "source": [
    "ttt= [[0, 1, 0],\n",
    "\t[2, 0, 0],\n",
    "\t[2, 1, 1]]\n",
    "player_number= 2\n",
    "location= 'A1'\n",
    "print(turn(ttt, player_number, location))\n",
    "print(ttt)"
   ]
  },
  {
   "cell_type": "markdown",
   "metadata": {},
   "source": [
    "*Exercise 8:* Write a function is called with a board and player number, takes input from the player using python's `input`, and modifies the board using your function from exercise 7. Note that you should keep asking for input until you have gotten a valid input that results in a valid move."
   ]
  },
  {
   "cell_type": "code",
   "execution_count": 315,
   "metadata": {},
   "outputs": [
    {
     "name": "stdin",
     "output_type": "stream",
     "text": [
      "Enter your player number here:  0\n"
     ]
    },
    {
     "name": "stdout",
     "output_type": "stream",
     "text": [
      "Invalid number, Try again.\n"
     ]
    },
    {
     "name": "stdin",
     "output_type": "stream",
     "text": [
      "Enter your player number here:  2\n",
      "Enter the desired location here:  1\n"
     ]
    },
    {
     "name": "stdout",
     "output_type": "stream",
     "text": [
      "Invalid loation\n"
     ]
    },
    {
     "name": "stdin",
     "output_type": "stream",
     "text": [
      "Enter your player number here:  2\n",
      "Enter the desired location here:  A1\n"
     ]
    },
    {
     "name": "stdout",
     "output_type": "stream",
     "text": [
      "location occupied\n"
     ]
    },
    {
     "name": "stdin",
     "output_type": "stream",
     "text": [
      "Enter your player number here:  2\n",
      "Enter the desired location here:  C1\n",
      "Enter your player number here:  end\n"
     ]
    },
    {
     "ename": "ValueError",
     "evalue": "invalid literal for int() with base 10: 'end'",
     "output_type": "error",
     "traceback": [
      "\u001b[0;31m---------------------------------------------------------------------------\u001b[0m",
      "\u001b[0;31mValueError\u001b[0m                                Traceback (most recent call last)",
      "Cell \u001b[0;32mIn[315], line 29\u001b[0m\n\u001b[1;32m     27\u001b[0m         board[row_index][column_index] \u001b[38;5;241m=\u001b[39m player_number\n\u001b[1;32m     28\u001b[0m \u001b[38;5;28;01mwhile\u001b[39;00m \u001b[38;5;28;01mTrue\u001b[39;00m:\n\u001b[0;32m---> 29\u001b[0m         player_number, location, row_index, column_index\u001b[38;5;241m=\u001b[39m \u001b[43mplayer_input\u001b[49m\u001b[43m(\u001b[49m\u001b[43mboard\u001b[49m\u001b[43m)\u001b[49m\n\u001b[1;32m     30\u001b[0m         output_move(board, player_number, row_index, column_index)\n",
      "Cell \u001b[0;32mIn[315], line 3\u001b[0m, in \u001b[0;36mplayer_input\u001b[0;34m(board)\u001b[0m\n\u001b[1;32m      1\u001b[0m \u001b[38;5;28;01mdef\u001b[39;00m \u001b[38;5;21mplayer_input\u001b[39m(board):\n\u001b[1;32m      2\u001b[0m     \u001b[38;5;28;01mwhile\u001b[39;00m \u001b[38;5;28;01mTrue\u001b[39;00m:\n\u001b[0;32m----> 3\u001b[0m         player_number \u001b[38;5;241m=\u001b[39m \u001b[38;5;28;43mint\u001b[39;49m\u001b[43m(\u001b[49m\u001b[38;5;28;43minput\u001b[39;49m\u001b[43m(\u001b[49m\u001b[38;5;124;43m'\u001b[39;49m\u001b[38;5;124;43mEnter your player number here: \u001b[39;49m\u001b[38;5;124;43m'\u001b[39;49m\u001b[43m)\u001b[49m\u001b[43m)\u001b[49m\n\u001b[1;32m      4\u001b[0m         \u001b[38;5;28;01mif\u001b[39;00m player_number \u001b[38;5;129;01mnot\u001b[39;00m \u001b[38;5;129;01min\u001b[39;00m [\u001b[38;5;241m1\u001b[39m,\u001b[38;5;241m2\u001b[39m]:\n\u001b[1;32m      5\u001b[0m             \u001b[38;5;28mprint\u001b[39m(\u001b[38;5;124m'\u001b[39m\u001b[38;5;124mInvalid number, Try again.\u001b[39m\u001b[38;5;124m'\u001b[39m)\n",
      "\u001b[0;31mValueError\u001b[0m: invalid literal for int() with base 10: 'end'"
     ]
    }
   ],
   "source": [
    "def player_input(board):\n",
    "    while True:\n",
    "        player_number = int(input('Enter your player number here: '))\n",
    "        if player_number not in [1,2]:\n",
    "            print('Invalid number, Try again.')\n",
    "            continue\n",
    "            if board[row_index][column_index] ==0:\n",
    "               board[row_index][column_index] = player_number\n",
    "               if player_number== 1:\n",
    "                  board[row_index][column_index] = 'X'\n",
    "               elif player_number== 2:\n",
    "                  board[row_index][column_index] = 'O'\n",
    "        location = input('Enter the desired location here: ')\n",
    "        row_labels = {'A': 0, 'B': 1, 'C':2}\n",
    "        column_labels= {'1': 0, '2': 1, '3': 2}\n",
    "        if location[0] not in row_labels or location[1] not in column_labels:\n",
    "            print('Invalid loation')\n",
    "            continue\n",
    "        row_index= row_labels[location[0]]\n",
    "        column_index= column_labels[location[1]]\n",
    "\n",
    "        if board[row_index][column_index] !=0:\n",
    "            print('location occupied')\n",
    "            continue\n",
    "        return int(player_number), location, row_index, column_index\n",
    "def output_move(board, player_number, row_index, column_index):\n",
    "        board[row_index][column_index] = player_number\n",
    "while True:\n",
    "        player_number, location, row_index, column_index= player_input(board)\n",
    "        output_move(board, player_number, row_index, column_index)\n",
    "        \n",
    "    "
   ]
  },
  {
   "cell_type": "code",
   "execution_count": 316,
   "metadata": {},
   "outputs": [
    {
     "data": {
      "text/plain": [
       "[[1, 0, 0], [0, 2, 0], [2, 0, 1]]"
      ]
     },
     "execution_count": 316,
     "metadata": {},
     "output_type": "execute_result"
    }
   ],
   "source": [
    "board"
   ]
  },
  {
   "cell_type": "markdown",
   "metadata": {},
   "source": [
    "# *Exercise 9:* Use all of the previous exercises to implement a full tic-tac-toe game, where an appropriate board is drawn, 2 players are repeatedly asked for a location coordinates of where they wish to place a mark, and the game status is checked until a player wins or a draw occurs."
   ]
  },
  {
   "cell_type": "code",
   "execution_count": null,
   "metadata": {},
   "outputs": [],
   "source": [
    "# Write you solution here"
   ]
  },
  {
   "cell_type": "code",
   "execution_count": null,
   "metadata": {},
   "outputs": [],
   "source": [
    "# Test your solution here"
   ]
  },
  {
   "cell_type": "markdown",
   "metadata": {},
   "source": [
    "*Exercise 10:* Test that your game works for 5x5 Tic Tac Toe.  "
   ]
  },
  {
   "cell_type": "code",
   "execution_count": null,
   "metadata": {},
   "outputs": [],
   "source": [
    "# Test your solution here"
   ]
  },
  {
   "cell_type": "markdown",
   "metadata": {},
   "source": [
    "*Exercise 11:* (Advanced / Challenge) Develop a version of the game where one player is the computer. Note that you don't need to do an extensive seach for the best move. You can have the computer simply protect against loosing and otherwise try to win with straight or diagonal patterns."
   ]
  },
  {
   "cell_type": "code",
   "execution_count": null,
   "metadata": {},
   "outputs": [],
   "source": [
    "# Write you solution here"
   ]
  },
  {
   "cell_type": "code",
   "execution_count": null,
   "metadata": {},
   "outputs": [],
   "source": [
    "# Test your solution here"
   ]
  }
 ],
 "metadata": {
  "kernelspec": {
   "display_name": "Python 3 (ipykernel)",
   "language": "python",
   "name": "python3"
  },
  "language_info": {
   "codemirror_mode": {
    "name": "ipython",
    "version": 3
   },
   "file_extension": ".py",
   "mimetype": "text/x-python",
   "name": "python",
   "nbconvert_exporter": "python",
   "pygments_lexer": "ipython3",
   "version": "3.10.12"
  }
 },
 "nbformat": 4,
 "nbformat_minor": 4
}
